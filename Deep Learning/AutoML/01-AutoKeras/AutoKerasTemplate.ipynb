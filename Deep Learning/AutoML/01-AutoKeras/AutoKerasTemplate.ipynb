{
 "cells": [
  {
   "cell_type": "markdown",
   "metadata": {},
   "source": [
    "## Import needed libraries"
   ]
  },
  {
   "cell_type": "code",
   "execution_count": null,
   "metadata": {
    "id": "Xlzj-MeJwDc6"
   },
   "outputs": [],
   "source": [
    "# !pip install autokeras\n",
    "import os\n",
    "import autokeras as ak"
   ]
  },
  {
   "cell_type": "markdown",
   "metadata": {},
   "source": [
    "## Create image generator"
   ]
  },
  {
   "cell_type": "code",
   "execution_count": null,
   "metadata": {
    "colab": {
     "base_uri": "https://localhost:8080/"
    },
    "id": "9TLEQnZ5Isel",
    "outputId": "fab4184f-0724-4ce1-95eb-7f47e906fb13"
   },
   "outputs": [],
   "source": [
    "img_size = (224, 224)\n",
    "train_dir = ''\n",
    "test_dir = ''\n",
    "batch_size = 40\n",
    "\n",
    "train_data = ak.image_dataset_from_directory(\n",
    "    train_dir,\n",
    "    validation_split=0.2,\n",
    "    subset= \"training\",\n",
    "    seed= 123,\n",
    "    image_size= img_size,\n",
    "    batch_size= batch_size\n",
    ")\n",
    "\n",
    "test_data = ak.image_dataset_from_directory(\n",
    "    test_dir,\n",
    "    subset= \"testing\",\n",
    "    seed= 123,\n",
    "    image_size= (img_height, img_width),\n",
    "    batch_size= batch_size\n",
    ")"
   ]
  },
  {
   "cell_type": "markdown",
   "metadata": {},
   "source": [
    "## Model structure and training"
   ]
  },
  {
   "cell_type": "code",
   "execution_count": null,
   "metadata": {
    "id": "G3fLQ8MaMWg8"
   },
   "outputs": [],
   "source": [
    "trials = 10\n",
    "epochs = 20\n",
    "cbs = [tf.keras.callbacks.EarlyStopping(patience=2)]\n",
    "\n",
    "input_node = ak.ImageInput()\n",
    "output_node = ak.ClassificationHead()(input_node)\n",
    "\n",
    "model = ak.AutoModel(inputs= input_node, outputs= output_node, overwrite= False, max_trials= trials, objective= 'val_accuracy')\n",
    "model.fit(train_data, epochs= epochs, callbacks=cbs)"
   ]
  },
  {
   "cell_type": "markdown",
   "metadata": {},
   "source": [
    "## Model evaluation"
   ]
  },
  {
   "cell_type": "code",
   "execution_count": null,
   "metadata": {
    "colab": {
     "base_uri": "https://localhost:8080/"
    },
    "id": "f5ZCDcyiM6aM",
    "outputId": "0b8f3bdd-32ee-47d0-9b1a-d668653bc9f6"
   },
   "outputs": [],
   "source": [
    "print(model.evaluate(test_data))"
   ]
  },
  {
   "cell_type": "markdown",
   "metadata": {},
   "source": [
    "## Model prediction"
   ]
  },
  {
   "cell_type": "code",
   "execution_count": null,
   "metadata": {
    "id": "yzCuQJSdnzal"
   },
   "outputs": [],
   "source": [
    "predicted_y = model.predict(test_data)\n",
    "print(predicted_y)"
   ]
  },
  {
   "cell_type": "markdown",
   "metadata": {},
   "source": [
    "## Save model"
   ]
  },
  {
   "cell_type": "code",
   "execution_count": null,
   "metadata": {
    "id": "LxD4q8QOnL4S"
   },
   "outputs": [],
   "source": [
    "model.export_model().save(os.path.join('content', \"model.h5\"))"
   ]
  }
 ],
 "metadata": {
  "accelerator": "TPU",
  "colab": {
   "collapsed_sections": [],
   "provenance": []
  },
  "kernelspec": {
   "display_name": "Python 3 (ipykernel)",
   "language": "python",
   "name": "python3"
  },
  "language_info": {
   "codemirror_mode": {
    "name": "ipython",
    "version": 3
   },
   "file_extension": ".py",
   "mimetype": "text/x-python",
   "name": "python",
   "nbconvert_exporter": "python",
   "pygments_lexer": "ipython3",
   "version": "3.9.10"
  }
 },
 "nbformat": 4,
 "nbformat_minor": 1
}
