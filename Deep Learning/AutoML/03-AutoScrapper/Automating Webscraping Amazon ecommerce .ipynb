{
 "cells": [
  {
   "cell_type": "code",
   "execution_count": 2,
   "id": "9ba85b0f",
   "metadata": {},
   "outputs": [
    {
     "name": "stdout",
     "output_type": "stream",
     "text": [
      "Requirement already satisfied: autoscraper in c:\\users\\win10\\anaconda3\\envs\\myenv\\lib\\site-packages (1.1.12)\n",
      "Requirement already satisfied: lxml in c:\\users\\win10\\anaconda3\\envs\\myenv\\lib\\site-packages (from autoscraper) (4.6.3)\n",
      "Requirement already satisfied: requests in c:\\users\\win10\\anaconda3\\envs\\myenv\\lib\\site-packages (from autoscraper) (2.25.1)\n",
      "Requirement already satisfied: bs4 in c:\\users\\win10\\anaconda3\\envs\\myenv\\lib\\site-packages (from autoscraper) (0.0.1)\n",
      "Requirement already satisfied: beautifulsoup4 in c:\\users\\win10\\anaconda3\\envs\\myenv\\lib\\site-packages (from bs4->autoscraper) (4.9.3)\n",
      "Requirement already satisfied: soupsieve>1.2 in c:\\users\\win10\\anaconda3\\envs\\myenv\\lib\\site-packages (from beautifulsoup4->bs4->autoscraper) (2.2.1)\n",
      "Requirement already satisfied: idna<3,>=2.5 in c:\\users\\win10\\anaconda3\\envs\\myenv\\lib\\site-packages (from requests->autoscraper) (2.10)\n",
      "Requirement already satisfied: certifi>=2017.4.17 in c:\\users\\win10\\anaconda3\\envs\\myenv\\lib\\site-packages (from requests->autoscraper) (2020.12.5)\n",
      "Requirement already satisfied: urllib3<1.27,>=1.21.1 in c:\\users\\win10\\anaconda3\\envs\\myenv\\lib\\site-packages (from requests->autoscraper) (1.26.4)\n",
      "Requirement already satisfied: chardet<5,>=3.0.2 in c:\\users\\win10\\anaconda3\\envs\\myenv\\lib\\site-packages (from requests->autoscraper) (3.0.4)\n"
     ]
    }
   ],
   "source": [
    "!pip install autoscraper"
   ]
  },
  {
   "cell_type": "code",
   "execution_count": 3,
   "id": "c32a7625",
   "metadata": {},
   "outputs": [],
   "source": [
    "from autoscraper import AutoScraper"
   ]
  },
  {
   "cell_type": "code",
   "execution_count": 23,
   "id": "f1492bd8",
   "metadata": {},
   "outputs": [],
   "source": [
    "amazon_url=\"https://www.amazon.in/s?k=iphones\"\n",
    "\n",
    "wanted_list=[\"₹58,400\",\"New Apple iPhone 11 (128GB) - Black\"]"
   ]
  },
  {
   "cell_type": "code",
   "execution_count": 24,
   "id": "11cc44b8",
   "metadata": {},
   "outputs": [
    {
     "name": "stdout",
     "output_type": "stream",
     "text": [
      "['₹58,400', '₹59,900', '₹1,25,900', '₹1,29,900', '₹82,400', '₹84,900', '₹1,15,900', '₹1,19,900', '₹66,900', '₹69,900', '₹93,900', '₹1,23,900', '₹86,900', '₹1,21,300', '₹29,999', '₹13,990', '₹19,990', '₹16,499', '₹19,999', '₹3,499', '₹3,999', '₹9,990', '₹12,990', '₹23,999', '₹27,000', '₹2,499', '₹2,999', 'New Apple iPhone 11 (128GB) - Black', 'New Apple iPhone 12 Pro Max (128GB) - Pacific Blue', 'New Apple iPhone 12 (128GB) - Blue', 'New Apple iPhone 12 Pro (128GB) - Pacific Blue', 'New Apple iPhone 12 Mini (64GB) - Blue', 'Apple iPhone 11 Pro Max (256GB) - Midnight Green', 'Apple iPhone 11 Pro (256GB) - Silver', 'OnePlus Nord 5G (Blue Marble, 12GB RAM, 256GB Storage)', 'Oppo A52 (Twilight Black, 6GB RAM, 128GB Storage) with No Cost EMI/Additional Exchange Offers', 'Samsung Galaxy M31 (Ocean Blue, 6GB RAM, 128GB Storage)', 'Nillkin Case for Apple iPhone 12 Mini (5.4\" Inch) Super Frosted Shield Pro Magnetic Hard Back Soft Border (PC + TPU) Cover Raised Bezel Camera Protect with Logo Cut Blue', 'Nillkin Case for Apple iPhone 12 Mini (5.4\" Inch) Medley Case Military Grade Finish (PC + TPU) Built in Stand (Removable) Raised Bezel for Camera Protect Blue', 'OPPO A31 (Fantasy White, 4GB RAM, 64GB Storage) with No Cost EMI/Additional Exchange Offers', 'Mi 10i 5G (Midnight Black, 8GB RAM, 128GB Storage) - 108MP Quad Camera | Snapdragon 750G Processor | Upto 6 Months No Cost EMI', 'Nillkin Case for Apple iPhone 12 Pro Max (6.7\" Inch) Super Frosted Shield Pro Magnetic Hard Back Soft Border (PC + TPU) Cover Raised Bezel Camera Protect with Logo Cut Blue', 'Nillkin Case for Apple iPhone 12 Pro Max (6.7\" Inch) Aoge Leather 360 Protection Elite Business Case with Soft Microfiber Lining & Internal Card Slot Blue', 'Nillkin Case for Apple iPhone 12 Mini (5.4', 'Mi 10i 5G (Midnight Black, 8GB RAM, 128GB Storage) - 108MP Quad Camera | Snapdragon 750G Processor | Upto 6 Months No Cost...', 'Nillkin Case for Apple iPhone 12 Pro Max (6.7']\n"
     ]
    }
   ],
   "source": [
    "scraper=AutoScraper()\n",
    "result=scraper.build(amazon_url,wanted_list)\n",
    "print(result)"
   ]
  },
  {
   "cell_type": "code",
   "execution_count": 25,
   "id": "32cef483",
   "metadata": {},
   "outputs": [
    {
     "data": {
      "text/plain": [
       "{'rule_hbsb': ['₹82,400',\n",
       "  '₹84,900',\n",
       "  '₹58,400',\n",
       "  '₹59,900',\n",
       "  '₹1,25,900',\n",
       "  '₹1,29,900',\n",
       "  '₹59,900',\n",
       "  '₹54,900',\n",
       "  '₹58,400',\n",
       "  '₹59,900',\n",
       "  '₹66,900',\n",
       "  '₹69,900',\n",
       "  '₹59,900',\n",
       "  '₹93,900',\n",
       "  '₹1,23,900',\n",
       "  '₹77,900',\n",
       "  '₹79,900',\n",
       "  '₹77,900',\n",
       "  '₹79,900',\n",
       "  '₹82,900',\n",
       "  '₹84,900',\n",
       "  '₹65,900',\n",
       "  '₹69,900',\n",
       "  '₹1,35,900',\n",
       "  '₹1,39,900',\n",
       "  '₹29,999'],\n",
       " 'rule_xax6': ['₹82,400',\n",
       "  '₹84,900',\n",
       "  '₹58,400',\n",
       "  '₹59,900',\n",
       "  '₹1,25,900',\n",
       "  '₹1,29,900',\n",
       "  '₹59,900',\n",
       "  '₹54,900',\n",
       "  '₹58,400',\n",
       "  '₹59,900',\n",
       "  '₹66,900',\n",
       "  '₹69,900',\n",
       "  '₹59,900',\n",
       "  '₹93,900',\n",
       "  '₹1,23,900',\n",
       "  '₹77,900',\n",
       "  '₹79,900',\n",
       "  '₹77,900',\n",
       "  '₹79,900',\n",
       "  '₹82,900',\n",
       "  '₹84,900',\n",
       "  '₹65,900',\n",
       "  '₹69,900',\n",
       "  '₹1,35,900',\n",
       "  '₹1,39,900',\n",
       "  '₹29,999'],\n",
       " 'rule_d6y6': [],\n",
       " 'rule_q4do': ['New Apple iPhone 12 (128GB) - Blue',\n",
       "  'New Apple iPhone 11 (128GB) - Black',\n",
       "  'New Apple iPhone 12 Pro Max (128GB) - Pacific Blue',\n",
       "  'New Apple iPhone 11 (128GB) - White',\n",
       "  'New Apple iPhone 11 (64GB) - Green',\n",
       "  'New Apple iPhone 11 (128GB) - (Product) RED',\n",
       "  'New Apple iPhone 12 Mini (64GB) - Blue',\n",
       "  'New Apple iPhone 11 (128GB) - Green',\n",
       "  'Apple iPhone 11 Pro Max (256GB) - Midnight Green',\n",
       "  'New Apple iPhone 12 (64GB) - Black',\n",
       "  'New Apple iPhone 12 (64GB) - Blue',\n",
       "  'New Apple iPhone 12 (128GB) - Black',\n",
       "  'New Apple iPhone 12 Mini (64GB) - White',\n",
       "  'New Apple iPhone 12 Pro Max (256GB) - Graphite',\n",
       "  'OnePlus Nord 5G (Blue Marble, 12GB RAM, 256GB Storage)']}"
      ]
     },
     "execution_count": 25,
     "metadata": {},
     "output_type": "execute_result"
    }
   ],
   "source": [
    "scraper.get_result_similar(amazon_url,grouped=True)"
   ]
  },
  {
   "cell_type": "code",
   "execution_count": 26,
   "id": "3b1d93c4",
   "metadata": {},
   "outputs": [],
   "source": [
    "scraper.set_rule_aliases({'rule_q4do':'Title','rule_hbsb':'Price'})\n",
    "scraper.keep_rules(['rule_q4do','rule_hbsb'])\n",
    "scraper.save('amazon-search')"
   ]
  },
  {
   "cell_type": "code",
   "execution_count": 27,
   "id": "e9f46ecb",
   "metadata": {},
   "outputs": [],
   "source": [
    "results=scraper.get_result_similar('https://www.amazon.in/s?k=mi+phones+under+15000',group_by_alias=True)"
   ]
  },
  {
   "cell_type": "code",
   "execution_count": 29,
   "id": "c6ddeb9a",
   "metadata": {},
   "outputs": [
    {
     "data": {
      "text/plain": [
       "['₹13,999',\n",
       " '₹17,999',\n",
       " '₹12,999',\n",
       " '₹16,999',\n",
       " '₹6,799',\n",
       " '₹8,499',\n",
       " '₹8,799',\n",
       " '₹10,999',\n",
       " '₹10,999',\n",
       " '₹14,999',\n",
       " '₹14,999',\n",
       " '₹18,999',\n",
       " '₹10,499',\n",
       " '₹13,999',\n",
       " '₹9,999',\n",
       " '₹10,999',\n",
       " '₹6,799',\n",
       " '₹8,499',\n",
       " '₹9,999',\n",
       " '₹10,999',\n",
       " '₹8,799',\n",
       " '₹10,999',\n",
       " '₹13,999',\n",
       " '₹17,999',\n",
       " '₹12,999',\n",
       " '₹16,999',\n",
       " '₹10,990',\n",
       " '₹15,990',\n",
       " '₹7,499',\n",
       " '₹9,499',\n",
       " '₹13,999',\n",
       " '₹17,499']"
      ]
     },
     "execution_count": 29,
     "metadata": {},
     "output_type": "execute_result"
    }
   ],
   "source": [
    "results['Price']"
   ]
  },
  {
   "cell_type": "code",
   "execution_count": null,
   "id": "3ebf5d72",
   "metadata": {},
   "outputs": [],
   "source": []
  },
  {
   "cell_type": "code",
   "execution_count": null,
   "id": "d3c79518",
   "metadata": {},
   "outputs": [],
   "source": []
  },
  {
   "cell_type": "code",
   "execution_count": null,
   "id": "ca60befe",
   "metadata": {},
   "outputs": [],
   "source": []
  },
  {
   "cell_type": "code",
   "execution_count": null,
   "id": "b61b880a",
   "metadata": {},
   "outputs": [],
   "source": []
  }
 ],
 "metadata": {
  "kernelspec": {
   "display_name": "Python 3",
   "language": "python",
   "name": "python3"
  },
  "language_info": {
   "codemirror_mode": {
    "name": "ipython",
    "version": 3
   },
   "file_extension": ".py",
   "mimetype": "text/x-python",
   "name": "python",
   "nbconvert_exporter": "python",
   "pygments_lexer": "ipython3",
   "version": "3.7.10"
  }
 },
 "nbformat": 4,
 "nbformat_minor": 5
}
