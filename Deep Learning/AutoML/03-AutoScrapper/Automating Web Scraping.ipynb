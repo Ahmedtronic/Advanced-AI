{
 "cells": [
  {
   "cell_type": "markdown",
   "id": "3e9d74ca",
   "metadata": {},
   "source": [
    "### Install Autoscrapper"
   ]
  },
  {
   "cell_type": "code",
   "execution_count": 20,
   "id": "905963cf",
   "metadata": {},
   "outputs": [
    {
     "name": "stdout",
     "output_type": "stream",
     "text": [
      "Requirement already satisfied: autoscraper in c:\\users\\win10\\anaconda3\\envs\\myenv\\lib\\site-packages (1.1.12)\n",
      "Requirement already satisfied: bs4 in c:\\users\\win10\\anaconda3\\envs\\myenv\\lib\\site-packages (from autoscraper) (0.0.1)\n",
      "Requirement already satisfied: lxml in c:\\users\\win10\\anaconda3\\envs\\myenv\\lib\\site-packages (from autoscraper) (4.6.3)\n",
      "Requirement already satisfied: requests in c:\\users\\win10\\anaconda3\\envs\\myenv\\lib\\site-packages (from autoscraper) (2.25.1)\n",
      "Requirement already satisfied: beautifulsoup4 in c:\\users\\win10\\anaconda3\\envs\\myenv\\lib\\site-packages (from bs4->autoscraper) (4.9.3)\n",
      "Requirement already satisfied: soupsieve>1.2 in c:\\users\\win10\\anaconda3\\envs\\myenv\\lib\\site-packages (from beautifulsoup4->bs4->autoscraper) (2.2.1)\n",
      "Requirement already satisfied: certifi>=2017.4.17 in c:\\users\\win10\\anaconda3\\envs\\myenv\\lib\\site-packages (from requests->autoscraper) (2020.12.5)\n",
      "Requirement already satisfied: idna<3,>=2.5 in c:\\users\\win10\\anaconda3\\envs\\myenv\\lib\\site-packages (from requests->autoscraper) (2.10)\n",
      "Requirement already satisfied: urllib3<1.27,>=1.21.1 in c:\\users\\win10\\anaconda3\\envs\\myenv\\lib\\site-packages (from requests->autoscraper) (1.26.4)\n",
      "Requirement already satisfied: chardet<5,>=3.0.2 in c:\\users\\win10\\anaconda3\\envs\\myenv\\lib\\site-packages (from requests->autoscraper) (3.0.4)\n"
     ]
    }
   ],
   "source": [
    "!pip install autoscraper"
   ]
  },
  {
   "cell_type": "code",
   "execution_count": 32,
   "id": "862f0a87",
   "metadata": {},
   "outputs": [
    {
     "name": "stdout",
     "output_type": "stream",
     "text": [
      "['3', '1', '85', '2', '6', '359', '26', '8', '5', '7', '49', '37', '12', '50', '16', '14', '4', '10', '53', 'Types-Of-Trnasformation', 'Pywebheroku', 'Car-Price-Prediction', 'Custom-object-Detection', 'Gradio', 'EVALML', 'Machine-Learning-in-90-days', 'Weather-Chatbot-Using-Luis', 'Shapash-', 'Car-PricePrediction', 'BMI-Calculator', 'PyWebIO', 'Audio-Classification', 'Malaria-Detection', 'Deep-Learning-Car-Brand', 'WaferFaultDetection', 'Phising-Classifier', 'texthero', 'Kubernet-Dockers', 'Dockers', 'Google-Dialogflow-chatbots', 'Google-Cloud-Platform-Deployment', 'AzureDeployment', 'Test', 'Image-Webscrapper', 'AQI-Deployment', 'NLP-Deployment-Heroku', 'Heroku-Demo', 'Deployment-Heroku', 'mlops', '8.4k', '0']\n"
     ]
    }
   ],
   "source": [
    "from autoscraper import AutoScraper\n",
    "\n",
    "url = 'https://github.com/krishnaik06?tab=repositories'\n",
    "\n",
    "# We can add one or multiple candidates here.\n",
    "# You can also put urls here to retrieve urls.\n",
    "wanted_list = [\"85\",\"Car-Price-Prediction\",\"8.4k\"]\n",
    "\n",
    "scraper = AutoScraper()\n",
    "result = scraper.build(url, wanted_list)\n",
    "print(result)"
   ]
  },
  {
   "cell_type": "code",
   "execution_count": 33,
   "id": "1883b616",
   "metadata": {},
   "outputs": [
    {
     "data": {
      "text/plain": [
       "{'rule_iv97': ['3',\n",
       "  '1',\n",
       "  '85',\n",
       "  '1',\n",
       "  '2',\n",
       "  '6',\n",
       "  '359',\n",
       "  '26',\n",
       "  '6',\n",
       "  '8',\n",
       "  '5',\n",
       "  '7',\n",
       "  '6',\n",
       "  '49',\n",
       "  '37',\n",
       "  '12',\n",
       "  '5',\n",
       "  '7',\n",
       "  '6',\n",
       "  '50',\n",
       "  '16',\n",
       "  '14',\n",
       "  '6',\n",
       "  '2',\n",
       "  '12',\n",
       "  '4',\n",
       "  '10',\n",
       "  '53',\n",
       "  '3',\n",
       "  '5'],\n",
       " 'rule_t3ca': ['Types-Of-Trnasformation',\n",
       "  'Pywebheroku',\n",
       "  'Car-Price-Prediction',\n",
       "  'Custom-object-Detection',\n",
       "  'Gradio',\n",
       "  'EVALML',\n",
       "  'Machine-Learning-in-90-days',\n",
       "  'Weather-Chatbot-Using-Luis',\n",
       "  'Shapash-',\n",
       "  'Car-PricePrediction',\n",
       "  'BMI-Calculator',\n",
       "  'PyWebIO',\n",
       "  'Audio-Classification',\n",
       "  'Malaria-Detection',\n",
       "  'Deep-Learning-Car-Brand',\n",
       "  'WaferFaultDetection',\n",
       "  'Phising-Classifier',\n",
       "  'texthero',\n",
       "  'Kubernet-Dockers',\n",
       "  'Dockers',\n",
       "  'Google-Dialogflow-chatbots',\n",
       "  'Google-Cloud-Platform-Deployment',\n",
       "  'AzureDeployment',\n",
       "  'Test',\n",
       "  'Image-Webscrapper',\n",
       "  'AQI-Deployment',\n",
       "  'NLP-Deployment-Heroku',\n",
       "  'Heroku-Demo',\n",
       "  'Deployment-Heroku',\n",
       "  'mlops'],\n",
       " 'rule_sxsg': ['8.4k', '0', '2']}"
      ]
     },
     "execution_count": 33,
     "metadata": {},
     "output_type": "execute_result"
    }
   ],
   "source": [
    "scraper.get_result_similar(\"https://github.com/krishnaik06?tab=repositories\",grouped=True)"
   ]
  },
  {
   "cell_type": "code",
   "execution_count": 34,
   "id": "129cfcd0",
   "metadata": {},
   "outputs": [],
   "source": [
    "scraper.set_rule_aliases({'rule_iv97': 'Stars', 'rule_t3ca': 'Title','rule_sxsg':'Followers'})\n",
    "scraper.keep_rules(['rule_iv97', 'rule_t3ca','rule_sxsg'])\n",
    "scraper.save('github-repository-search')"
   ]
  },
  {
   "cell_type": "code",
   "execution_count": 35,
   "id": "894133ff",
   "metadata": {},
   "outputs": [],
   "source": [
    "scraper.load('github-repository-search')"
   ]
  },
  {
   "cell_type": "code",
   "execution_count": 36,
   "id": "f474219f",
   "metadata": {},
   "outputs": [],
   "source": [
    "result=scraper.get_result_similar(\"https://github.com/iNeuronai?tab=repositories\",group_by_alias=True)"
   ]
  },
  {
   "cell_type": "code",
   "execution_count": 37,
   "id": "5503ffd2",
   "metadata": {},
   "outputs": [
    {
     "data": {
      "text/plain": [
       "['1.4k', '0', '0']"
      ]
     },
     "execution_count": 37,
     "metadata": {},
     "output_type": "execute_result"
    }
   ],
   "source": [
    "result['Followers']"
   ]
  },
  {
   "cell_type": "code",
   "execution_count": null,
   "id": "ac9c2f73",
   "metadata": {},
   "outputs": [],
   "source": []
  }
 ],
 "metadata": {
  "kernelspec": {
   "display_name": "Python 3",
   "language": "python",
   "name": "python3"
  },
  "language_info": {
   "codemirror_mode": {
    "name": "ipython",
    "version": 3
   },
   "file_extension": ".py",
   "mimetype": "text/x-python",
   "name": "python",
   "nbconvert_exporter": "python",
   "pygments_lexer": "ipython3",
   "version": "3.7.10"
  }
 },
 "nbformat": 4,
 "nbformat_minor": 5
}
